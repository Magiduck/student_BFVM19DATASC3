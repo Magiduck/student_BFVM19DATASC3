{
 "cells": [
  {
   "cell_type": "markdown",
   "metadata": {},
   "source": [
    "# Confusion Matrix"
   ]
  },
  {
   "cell_type": "markdown",
   "metadata": {},
   "source": [
    "## Setup"
   ]
  },
  {
   "cell_type": "code",
   "execution_count": 2,
   "metadata": {},
   "outputs": [],
   "source": [
    "import matplotlib.pyplot as plt\n",
    "import numpy as np\n",
    "import tensorflow as tf\n",
    "from tensorflow import keras\n",
    "from random import randint\n",
    "\n",
    "%matplotlib inline\n",
    "\n",
    "def plot_matrix(data):\n",
    "    plt.figure()\n",
    "    plt.matshow(data)\n",
    "    plt.show()\n",
    "    \n",
    "def scale_data(X):\n",
    "    m = np.max(X)\n",
    "    return X/m"
   ]
  },
  {
   "cell_type": "code",
   "execution_count": 3,
   "metadata": {},
   "outputs": [
    {
     "name": "stdout",
     "output_type": "stream",
     "text": [
      "Done.\n"
     ]
    }
   ],
   "source": [
    "data = keras.datasets.fashion_mnist \n",
    "(train_images, train_labels), (test_images, test_labels) = data.load_data()\n",
    "labels = ['T-shirt/topje', 'Broek', 'Pullover', 'Jurk', 'Jas', 'Sandalen', 'Shirt', 'Sneaker', 'Tas', 'Lage laars'] \n",
    "print (\"Done.\")"
   ]
  },
  {
   "cell_type": "code",
   "execution_count": 4,
   "metadata": {},
   "outputs": [
    {
     "name": "stdout",
     "output_type": "stream",
     "text": [
      "Formaat van de train_images: (60000, 28, 28)\n",
      "Formaat van de train_labels: (60000,)\n",
      "Formaat van de test_images: (10000, 28, 28)\n",
      "Formaat van de test_labels: (10000,)\n",
      "Grootte van de labels: 10\n"
     ]
    }
   ],
   "source": [
    "print (\"Format train_images: {}\".format(train_images.shape))\n",
    "print (\"Format train_labels: {}\".format(train_labels.shape))\n",
    "print (\"Format test_images: {}\".format(test_images.shape))\n",
    "print (\"Format test_labels: {}\".format(test_labels.shape))\n",
    "print (\"Size labels: {}\".format(len(labels)))"
   ]
  },
  {
   "cell_type": "code",
   "execution_count": 19,
   "metadata": {},
   "outputs": [
    {
     "data": {
      "image/png": "[encoded data removed]",
      "text/plain": [
       "<matplotlib.figure.Figure at 0x1571662d0>"
      ]
     },
     "metadata": {
      "needs_background": "light"
     },
     "output_type": "display_data"
    }
   ],
   "source": [
    "def plot_image(img, label):\n",
    "    plt.figure()\n",
    "    plt.imshow(img, cmap=plt.cm.binary)\n",
    "    plt.xlabel(label)\n",
    "    plt.show()\n",
    "\n",
    "rnd = randint(0, train_images.shape[0])\n",
    "hyp = labels[train_labels[rnd]]\n",
    "plot_image(train_images[rnd], hyp)"
   ]
  },
  {
   "cell_type": "code",
   "execution_count": 6,
   "metadata": {},
   "outputs": [],
   "source": [
    "train_images = scale_data(train_images)\n",
    "test_images = scale_data(test_images)"
   ]
  },
  {
   "cell_type": "code",
   "execution_count": 7,
   "metadata": {},
   "outputs": [],
   "source": [
    "model = keras.Sequential([\n",
    "        keras.layers.Flatten(input_shape=(28, 28)),\n",
    "        keras.layers.Dense(128, activation=tf.nn.relu),\n",
    "        keras.layers.Dense(len(labels), activation=tf.nn.softmax)\n",
    "])\n",
    "model.compile(optimizer='adam',\n",
    "              loss='sparse_categorical_crossentropy',\n",
    "              metrics=['accuracy'])"
   ]
  },
  {
   "cell_type": "code",
   "execution_count": 8,
   "metadata": {},
   "outputs": [
    {
     "name": "stdout",
     "output_type": "stream",
     "text": [
      "Model: \"sequential\"\n",
      "_________________________________________________________________\n",
      "Layer (type)                 Output Shape              Param #   \n",
      "=================================================================\n",
      "flatten (Flatten)            (None, 784)               0         \n",
      "_________________________________________________________________\n",
      "dense (Dense)                (None, 128)               100480    \n",
      "_________________________________________________________________\n",
      "dense_1 (Dense)              (None, 10)                1290      \n",
      "=================================================================\n",
      "Total params: 101,770\n",
      "Trainable params: 101,770\n",
      "Non-trainable params: 0\n",
      "_________________________________________________________________\n"
     ]
    }
   ],
   "source": [
    "model.summary()"
   ]
  },
  {
   "cell_type": "code",
   "execution_count": 9,
   "metadata": {},
   "outputs": [
    {
     "name": "stdout",
     "output_type": "stream",
     "text": [
      "Train on 60000 samples\n",
      "Epoch 1/6\n",
      "60000/60000 [==============================] - 5s 79us/sample - loss: 0.4950 - accuracy: 0.8259\n",
      "Epoch 2/6\n",
      "60000/60000 [==============================] - 4s 74us/sample - loss: 0.3714 - accuracy: 0.8663\n",
      "Epoch 3/6\n",
      "60000/60000 [==============================] - 5s 76us/sample - loss: 0.3347 - accuracy: 0.8781\n",
      "Epoch 4/6\n",
      "60000/60000 [==============================] - 4s 71us/sample - loss: 0.3114 - accuracy: 0.8866\n",
      "Epoch 5/6\n",
      "60000/60000 [==============================] - 4s 67us/sample - loss: 0.2951 - accuracy: 0.8912\n",
      "Epoch 6/6\n",
      "60000/60000 [==============================] - 4s 73us/sample - loss: 0.2793 - accuracy: 0.8972\n"
     ]
    },
    {
     "data": {
      "text/plain": [
       "<tensorflow.python.keras.callbacks.History at 0x113f044d0>"
      ]
     },
     "execution_count": 9,
     "metadata": {},
     "output_type": "execute_result"
    }
   ],
   "source": [
    "model.fit(train_images, train_labels, epochs=6)"
   ]
  },
  {
   "cell_type": "markdown",
   "metadata": {},
   "source": [
    "## de confusion matrix"
   ]
  },
  {
   "cell_type": "code",
   "execution_count": 10,
   "metadata": {},
   "outputs": [
    {
     "name": "stdout",
     "output_type": "stream",
     "text": [
      "<class 'numpy.ndarray'>\n"
     ]
    },
    {
     "data": {
      "text/plain": [
       "<matplotlib.figure.Figure at 0x156af35d0>"
      ]
     },
     "metadata": {},
     "output_type": "display_data"
    },
    {
     "data": {
      "image/png": "[encoded data removed]",
      "text/plain": [
       "<matplotlib.figure.Figure at 0x10884e810>"
      ]
     },
     "metadata": {
      "needs_background": "light"
     },
     "output_type": "display_data"
    }
   ],
   "source": [
    "def conf_matrix(labels, pred):\n",
    "    # Retourneer de econfusion matrix op basis van de gegeven voorspelling (pred) en de actuele\n",
    "    # waarden (labels). \n",
    "    # Check eventueel de documentatie van tf.math.confusion_matrix:\n",
    "    # https://www.tensorflow.org/api_docs/python/tf/math/confusion_matrix\n",
    "    \n",
    "    return tf.math.confusion_matrix(labels, pred)    \n",
    "\n",
    "pred = np.argmax(model.predict(test_images), axis=1)\n",
    "data = np.array(conf_matrix(test_labels, pred))\n",
    "print(type(data))\n",
    "plot_matrix(data)"
   ]
  },
  {
   "cell_type": "code",
   "execution_count": 16,
   "metadata": {},
   "outputs": [
    {
     "name": "stdout",
     "output_type": "stream",
     "text": [
      "[[865   1  18  22   8   1  65   0  20   0]\n",
      " [  3 970   0  18   4   0   2   0   3   0]\n",
      " [ 16   1 669  12 208   0  69   0  25   0]\n",
      " [ 21   5  12 869  66   0  21   0   6   0]\n",
      " [  1   0  31  16 903   0  44   0   5   0]\n",
      " [  0   0   0   0   0 943   0  31   0  26]\n",
      " [152   1  62  33 101   0 617   0  34   0]\n",
      " [  0   0   0   0   0  14   0 956   0  30]\n",
      " [  3   0   0   1   7   1   0   3 985   0]\n",
      " [  0   0   0   0   0   5   1  29   0 965]]\n",
      "[1061  978  792  971 1297  964  819 1019 1078 1021]\n",
      "[1000 1000 1000 1000 1000 1000 1000 1000 1000 1000]\n",
      "[8804 8992 8877 8898 8606 8979 8798 8937 8907 8944]\n"
     ]
    }
   ],
   "source": [
    "print(data)\n",
    "TP = np.diagonal(data)\n",
    "print (np.sum(data, axis=0))\n",
    "\n",
    "FP = np.sum(data, axis=0) - TP\n",
    "FN = np.sum(data, axis=1) - TP\n",
    "print (np.sum(data, axis=1))\n",
    "TN = data.sum() - TP - FP - FN\n",
    "\n",
    "print (TN)\n",
    "\n"
   ]
  },
  {
   "cell_type": "markdown",
   "metadata": {},
   "source": [
    "##  TP, TN, FP, FN"
   ]
  },
  {
   "cell_type": "markdown",
   "metadata": {},
   "source": [
    "<p style=\"text-align:center\">$\\text{tp}_{i} = c_{ii}$</p>\n",
    "<p style=\"text-align:center\">$\\text{fp}_{i} = \\sum_{l=1}^n c_{li} - \\text{tp}_{i}$</p>\n",
    "<p style=\"text-align:center\">$\\text{fn}_{i} = \\sum_{l=1}^n c_{il} - \\text{tp}_{i}$<br/></p>\n",
    "<p style=\"text-align:center\">$\\text{tn}_{i} = \\sum_{l=1}^n \\sum_{k=1}^n c_{lk} - \\text{tp}_{i} - \\text{fp}_{i} - \\text{fn}_{i}$</p>\n"
   ]
  },
  {
   "cell_type": "code",
   "execution_count": 26,
   "metadata": {},
   "outputs": [
    {
     "data": {
      "text/plain": [
       "[('T-shirt/topje', 879, 227, 121, 8773),\n",
       " ('Broek', 974, 30, 26, 8970),\n",
       " ('Pullover', 717, 146, 283, 8854),\n",
       " ('Jurk', 870, 88, 130, 8912),\n",
       " ('Jas', 881, 311, 119, 8689),\n",
       " ('Sandalen', 947, 15, 53, 8985),\n",
       " ('Shirt', 621, 228, 379, 8772),\n",
       " ('Sneaker', 982, 100, 18, 8900),\n",
       " ('Tas', 979, 47, 21, 8953),\n",
       " ('Lage laars', 937, 21, 63, 8979)]"
      ]
     },
     "execution_count": 26,
     "metadata": {},
     "output_type": "execute_result"
    }
   ],
   "source": [
    "def conf_els(conf, labels): \n",
    "    # https://docs.scipy.org/doc/numpy/reference/generated/numpy.diagonal.html\n",
    "    tot = conf.sum().sum()\n",
    "    cols = conf.sum(axis=0)\n",
    "    rows = conf.sum(axis=1)\n",
    "\n",
    "    tp = conf.diagonal()\n",
    "    fp = cols-tp\n",
    "    fn = rows-tp\n",
    "    tn = tot - tp - fp - fn\n",
    "    \n",
    "    res = list(zip(labels,tp,fp,fn,tn))\n",
    "    return res\n",
    "\n",
    "\n",
    "\n",
    "conf_els(data,labels)"
   ]
  },
  {
   "cell_type": "markdown",
   "metadata": {},
   "source": [
    "<p style=\"text-align:center\">$\\text{sensitivity (TPR)} = \\frac{tp}{tp + fn}$</p>\n",
    "<p style=\"text-align:center\">$\\text{precision (PPV)} = \\frac{tp}{tp + fp}$</p>\n",
    "<p style=\"text-align:center\">$\\text{specificity (TNR)} = \\frac{tn}{tn + fp}$</p>\n",
    "<p style=\"text-align:center\">$\\text{fall-out (FPR)} = \\frac{fp}{fp + tn}$</p>"
   ]
  },
  {
   "cell_type": "code",
   "execution_count": 24,
   "metadata": {},
   "outputs": [],
   "source": [
    "def conf_data(metrics):\n",
    "\n",
    "    tp = sum([foo[1] for foo in metrics])\n",
    "    fp = sum([foo[2] for foo in metrics])\n",
    "    fn = sum([foo[3] for foo in metrics])\n",
    "    tn = sum([foo[4] for foo in metrics])\n",
    "\n",
    "    rv = {}\n",
    "    rv['tpr'] = tp / (tp+fn)\n",
    "    rv['ppv'] = tp / (tp+fp)\n",
    "    rv['tnr'] = tn / (tn+fp)\n",
    "    rv['fpr'] = fp / (fp+tn)\n",
    "\n",
    "    return rv"
   ]
  },
  {
   "cell_type": "code",
   "execution_count": 31,
   "metadata": {},
   "outputs": [
    {
     "name": "stdout",
     "output_type": "stream",
     "text": [
      "[('T-shirt/topje', 814, 157, 186, 8843), ('Broek', 962, 3, 38, 8997), ('Pullover', 819, 266, 181, 8734), ('Jurk', 889, 119, 111, 8881), ('Jas', 753, 164, 247, 8836), ('Sandalen', 955, 22, 45, 8978), ('Shirt', 677, 326, 323, 8674), ('Sneaker', 906, 39, 94, 8961), ('Tas', 981, 68, 19, 8932), ('Lage laars', 980, 100, 20, 8900)]\n",
      "Bepalen van de scores:\n",
      "{'tpr': 0.8736, 'ppv': 0.8736, 'tnr': 0.9859555555555556, 'fpr': 0.014044444444444444}\n"
     ]
    }
   ],
   "source": [
    "metrics = conf_els(data,labels)\n",
    "print (metrics)\n",
    "print (\"Calculate Scores:\")\n",
    "scores = conf_data(metrics)\n",
    "print (scores)"
   ]
  },
  {
   "cell_type": "code",
   "execution_count": null,
   "metadata": {},
   "outputs": [],
   "source": []
  }
 ],
 "metadata": {
  "kernelspec": {
   "display_name": "Python 3",
   "language": "python",
   "name": "python3"
  },
  "language_info": {
   "codemirror_mode": {
    "name": "ipython",
    "version": 3
   },
   "file_extension": ".py",
   "mimetype": "text/x-python",
   "name": "python",
   "nbconvert_exporter": "python",
   "pygments_lexer": "ipython3",
   "version": "3.8.2"
  }
 },
 "nbformat": 4,
 "nbformat_minor": 4
}
