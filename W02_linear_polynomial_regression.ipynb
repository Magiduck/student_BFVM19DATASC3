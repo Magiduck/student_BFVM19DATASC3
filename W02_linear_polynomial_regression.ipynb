{
 "cells": [
  {
   "cell_type": "markdown",
   "metadata": {},
   "source": [
    "# Polynomial regression \n",
    "\n",
    "In this assignment we investigate the change in average temperature per year in the Netherlands. We are looking for a model that can accurately predict the average temperature of a year. We use polynomial regression for this.\n",
    "\n",
    "We will perform the following steps:\n",
    "- Load the dataset\n",
    "- Prepare the data set\n",
    "- Perform regression\n",
    "- Evaluate the results\n",
    "- Plot and evaluate the learning curves\n",
    "\n",
    "For this assignment we use the GlobalLandTemperaturesByCountry.csv.\n",
    "Source: https://www.kaggle.com/siddharthnishtala/basic-polynomial-regression-india/data.\n",
    "\n",
    "Some code will be given. In this case, make sure that the variable names are the same!"
   ]
  },
  {
   "cell_type": "code",
   "execution_count": 169,
   "metadata": {},
   "outputs": [],
   "source": [
    "# all packages we need\n",
    "import pandas as pd\n",
    "import numpy as np\n",
    "from matplotlib import pyplot as plt\n",
    "from sklearn import linear_model\n",
    "\n",
    "from sklearn.linear_model import LinearRegression\n",
    "from sklearn.model_selection import train_test_split\n",
    "from sklearn.metrics import mean_squared_error\n",
    "from sklearn.metrics import r2_score\n",
    "from sklearn.preprocessing import PolynomialFeatures\n",
    "from sklearn.preprocessing import StandardScaler"
   ]
  },
  {
   "cell_type": "markdown",
   "metadata": {},
   "source": [
    "## 1. Read and prepare the data\n",
    "Perform the following steps:\n",
    "\n",
    "#### 1. Read in:\n",
    "- Read the CSV file.\n",
    "\n",
    "#### 2a. Prepare - remove what is unnecessary\n",
    "\n",
    "- Select only the rows where ** Country ** is ** Netherlands **.\n",
    "- With method `dropna ()` remove the rows where ** NaN ** 's exist for the ** AverageTemperature **.\n",
    "- Remove the columns with no added value: ** AverageTemperatureUncertainty ** and ** Country **.\n",
    "\n",
    "\n",
    "#### 2b. Prep - create what is needed\n",
    "\n",
    "- Create a new column ** Year **, in which we store the year of the measurement. Use the method `df.index.year`\n",
    "\n",
    "#### 2c. Aggregate\n",
    "\n",
    "- We now have a data frame with multiple temperature data per year. We will aggregate these to get a table with year and average temperature.\n",
    "- Using the data frame made above, create a new data frame with average temperature per year. To do this, use the method `df.groupby (). Mean ()`\n",
    "- Remove the years for which less than 12 values are known (why do we do this?)\n",
    "\n",
    "#### 2d. Plot the data\n",
    "\n",
    "- Plot the data (year on the x-axis, average temperature on the y-axis) to inspect it. What do you see?"
   ]
  },
  {
   "cell_type": "markdown",
   "metadata": {},
   "source": [
    "## Code to prepare the data"
   ]
  },
  {
   "cell_type": "code",
   "execution_count": 8,
   "metadata": {},
   "outputs": [
    {
     "data": {
      "text/html": [
       "<div>\n",
       "<style scoped>\n",
       "    .dataframe tbody tr th:only-of-type {\n",
       "        vertical-align: middle;\n",
       "    }\n",
       "\n",
       "    .dataframe tbody tr th {\n",
       "        vertical-align: top;\n",
       "    }\n",
       "\n",
       "    .dataframe thead th {\n",
       "        text-align: right;\n",
       "    }\n",
       "</style>\n",
       "<table border=\"1\" class=\"dataframe\">\n",
       "  <thead>\n",
       "    <tr style=\"text-align: right;\">\n",
       "      <th></th>\n",
       "      <th>AverageTemperature</th>\n",
       "      <th>AverageTemperatureUncertainty</th>\n",
       "      <th>Country</th>\n",
       "    </tr>\n",
       "    <tr>\n",
       "      <th>dt</th>\n",
       "      <th></th>\n",
       "      <th></th>\n",
       "      <th></th>\n",
       "    </tr>\n",
       "  </thead>\n",
       "  <tbody>\n",
       "    <tr>\n",
       "      <th>1743-11-01</th>\n",
       "      <td>4.384</td>\n",
       "      <td>2.294</td>\n",
       "      <td>Åland</td>\n",
       "    </tr>\n",
       "    <tr>\n",
       "      <th>1743-12-01</th>\n",
       "      <td>NaN</td>\n",
       "      <td>NaN</td>\n",
       "      <td>Åland</td>\n",
       "    </tr>\n",
       "    <tr>\n",
       "      <th>1744-01-01</th>\n",
       "      <td>NaN</td>\n",
       "      <td>NaN</td>\n",
       "      <td>Åland</td>\n",
       "    </tr>\n",
       "    <tr>\n",
       "      <th>1744-02-01</th>\n",
       "      <td>NaN</td>\n",
       "      <td>NaN</td>\n",
       "      <td>Åland</td>\n",
       "    </tr>\n",
       "    <tr>\n",
       "      <th>1744-03-01</th>\n",
       "      <td>NaN</td>\n",
       "      <td>NaN</td>\n",
       "      <td>Åland</td>\n",
       "    </tr>\n",
       "  </tbody>\n",
       "</table>\n",
       "</div>"
      ],
      "text/plain": [
       "            AverageTemperature  AverageTemperatureUncertainty Country\n",
       "dt                                                                   \n",
       "1743-11-01               4.384                          2.294   Åland\n",
       "1743-12-01                 NaN                            NaN   Åland\n",
       "1744-01-01                 NaN                            NaN   Åland\n",
       "1744-02-01                 NaN                            NaN   Åland\n",
       "1744-03-01                 NaN                            NaN   Åland"
      ]
     },
     "execution_count": 8,
     "metadata": {},
     "output_type": "execute_result"
    }
   ],
   "source": [
    "# 1. load the data\n",
    "df = pd.read_csv(\"GlobalLandTemperaturesByCountry.csv\", index_col=0, parse_dates=True)\n",
    "df.head()"
   ]
  },
  {
   "cell_type": "code",
   "execution_count": 3,
   "metadata": {},
   "outputs": [],
   "source": [
    "# 2a. enter your code here for the next steps\n",
    "# Select only the rows where Country is Netherlands.\n",
    "# Using method dropna () remove the rows where NaNs occur for the AverageTemperature.\n",
    "# Remove the columns with no added value: AverageTemperatureUncertainty and Country."
   ]
  },
  {
   "cell_type": "code",
   "execution_count": null,
   "metadata": {},
   "outputs": [],
   "source": [
    "# 2b. enter your code here for the next steps\n",
    "# create column Year, in which we store the year of the measurement. use df.index.year"
   ]
  },
  {
   "cell_type": "code",
   "execution_count": 10,
   "metadata": {
    "scrolled": true
   },
   "outputs": [
    {
     "data": {
      "text/html": [
       "<div>\n",
       "<style scoped>\n",
       "    .dataframe tbody tr th:only-of-type {\n",
       "        vertical-align: middle;\n",
       "    }\n",
       "\n",
       "    .dataframe tbody tr th {\n",
       "        vertical-align: top;\n",
       "    }\n",
       "\n",
       "    .dataframe thead th {\n",
       "        text-align: right;\n",
       "    }\n",
       "</style>\n",
       "<table border=\"1\" class=\"dataframe\">\n",
       "  <thead>\n",
       "    <tr style=\"text-align: right;\">\n",
       "      <th></th>\n",
       "      <th>AverageTemperature</th>\n",
       "      <th>Year</th>\n",
       "    </tr>\n",
       "    <tr>\n",
       "      <th>dt</th>\n",
       "      <th></th>\n",
       "      <th></th>\n",
       "    </tr>\n",
       "  </thead>\n",
       "  <tbody>\n",
       "    <tr>\n",
       "      <th>1743-11-01</th>\n",
       "      <td>8.009</td>\n",
       "      <td>1743</td>\n",
       "    </tr>\n",
       "    <tr>\n",
       "      <th>1744-04-01</th>\n",
       "      <td>8.443</td>\n",
       "      <td>1744</td>\n",
       "    </tr>\n",
       "    <tr>\n",
       "      <th>1744-05-01</th>\n",
       "      <td>11.643</td>\n",
       "      <td>1744</td>\n",
       "    </tr>\n",
       "    <tr>\n",
       "      <th>1744-06-01</th>\n",
       "      <td>14.773</td>\n",
       "      <td>1744</td>\n",
       "    </tr>\n",
       "    <tr>\n",
       "      <th>1744-07-01</th>\n",
       "      <td>16.277</td>\n",
       "      <td>1744</td>\n",
       "    </tr>\n",
       "  </tbody>\n",
       "</table>\n",
       "</div>"
      ],
      "text/plain": [
       "            AverageTemperature  Year\n",
       "dt                                  \n",
       "1743-11-01               8.009  1743\n",
       "1744-04-01               8.443  1744\n",
       "1744-05-01              11.643  1744\n",
       "1744-06-01              14.773  1744\n",
       "1744-07-01              16.277  1744"
      ]
     },
     "execution_count": 10,
     "metadata": {},
     "output_type": "execute_result"
    }
   ],
   "source": [
    "df.head()"
   ]
  },
  {
   "cell_type": "code",
   "execution_count": null,
   "metadata": {},
   "outputs": [],
   "source": [
    "# 2c. enter your code for the aggregation here\n",
    "# Create data from df data frame with average temperature per year; use df.groupby (). mean ()\n",
    "# Delete the years for which less than 12 values are known\n",
    "data = data[df[\"Year\"].value_counts()==12]"
   ]
  },
  {
   "cell_type": "code",
   "execution_count": 19,
   "metadata": {},
   "outputs": [
    {
     "data": {
      "text/html": [
       "<div>\n",
       "<style scoped>\n",
       "    .dataframe tbody tr th:only-of-type {\n",
       "        vertical-align: middle;\n",
       "    }\n",
       "\n",
       "    .dataframe tbody tr th {\n",
       "        vertical-align: top;\n",
       "    }\n",
       "\n",
       "    .dataframe thead th {\n",
       "        text-align: right;\n",
       "    }\n",
       "</style>\n",
       "<table border=\"1\" class=\"dataframe\">\n",
       "  <thead>\n",
       "    <tr style=\"text-align: right;\">\n",
       "      <th></th>\n",
       "      <th>AverageTemperature</th>\n",
       "      <th>Year</th>\n",
       "    </tr>\n",
       "    <tr>\n",
       "      <th>Year</th>\n",
       "      <th></th>\n",
       "      <th></th>\n",
       "    </tr>\n",
       "  </thead>\n",
       "  <tbody>\n",
       "    <tr>\n",
       "      <th>1753</th>\n",
       "      <td>9.440083</td>\n",
       "      <td>1753</td>\n",
       "    </tr>\n",
       "    <tr>\n",
       "      <th>1754</th>\n",
       "      <td>9.111833</td>\n",
       "      <td>1754</td>\n",
       "    </tr>\n",
       "    <tr>\n",
       "      <th>1755</th>\n",
       "      <td>8.924750</td>\n",
       "      <td>1755</td>\n",
       "    </tr>\n",
       "    <tr>\n",
       "      <th>1756</th>\n",
       "      <td>9.568667</td>\n",
       "      <td>1756</td>\n",
       "    </tr>\n",
       "    <tr>\n",
       "      <th>1757</th>\n",
       "      <td>9.436250</td>\n",
       "      <td>1757</td>\n",
       "    </tr>\n",
       "  </tbody>\n",
       "</table>\n",
       "</div>"
      ],
      "text/plain": [
       "      AverageTemperature  Year\n",
       "Year                          \n",
       "1753            9.440083  1753\n",
       "1754            9.111833  1754\n",
       "1755            8.924750  1755\n",
       "1756            9.568667  1756\n",
       "1757            9.436250  1757"
      ]
     },
     "execution_count": 19,
     "metadata": {},
     "output_type": "execute_result"
    }
   ],
   "source": [
    "data.head()\n",
    "# in the generated overview year 1753 must have a temperature of 9.440083"
   ]
  },
  {
   "cell_type": "code",
   "execution_count": 13,
   "metadata": {},
   "outputs": [
    {
     "data": {
      "image/png": "[encoded data removed]",
      "text/plain": [
       "<Figure size 432x288 with 1 Axes>"
      ]
     },
     "metadata": {
      "needs_background": "light"
     },
     "output_type": "display_data"
    }
   ],
   "source": [
    "# 2d. Plot the data\n",
    "data[\"Year\"] = data.index\n",
    "plt.scatter(data[\"Year\"], data[\"AverageTemperature\"])\n",
    "plt.ylabel('Average Temperature')\n",
    "plt.xlabel('Year')\n",
    "plt.title('Average temperature in the Netherlands')\n",
    "plt.show()"
   ]
  },
  {
   "cell_type": "markdown",
   "metadata": {},
   "source": [
    "## Moving average every 10 years\n",
    "\n",
    "We are now going to take the moving average every 10 years. This reduces the variance in the data set. When applying the moving average, NaNs sometimes arise again. We have to remove it again. The code for this is given below. Then we plot the year `x` against the mean temperature` y`.\n",
    "\n",
    "sources:\n",
    "- moving average: https://en.wikipedia.org/wiki/Moving_average\n",
    "- moving average in pandas: https://pandas.pydata.org/pandasdocs/stable/reference/api/pandas.DataFrame.rolling.html\n",
    "\n",
    "NOTE: 10 was chosen randomly as the rolling average window. Feel free to try other windows later."
   ]
  },
  {
   "cell_type": "code",
   "execution_count": 158,
   "metadata": {},
   "outputs": [],
   "source": [
    "# code for moving average\n",
    "df = data[\"AverageTemperature\"].rolling(window=10).mean()\n",
    "df = df.dropna()\n",
    "\n",
    "y = df.values.reshape(-1,1)\n",
    "X = df.index.values\n",
    "X = X.reshape(-1,1)\n"
   ]
  },
  {
   "cell_type": "code",
   "execution_count": 159,
   "metadata": {},
   "outputs": [
    {
     "data": {
      "text/plain": [
       "[<matplotlib.lines.Line2D at 0x129011460>]"
      ]
     },
     "execution_count": 159,
     "metadata": {},
     "output_type": "execute_result"
    },
    {
     "data": {
      "image/png": "[encoded data removed]",
      "text/plain": [
       "<Figure size 432x288 with 1 Axes>"
      ]
     },
     "metadata": {
      "needs_background": "light"
     },
     "output_type": "display_data"
    }
   ],
   "source": [
    "# Plot the data\n",
    "plt.plot(X,y)\n",
    "# add code here to enhance the plot "
   ]
  },
  {
   "cell_type": "markdown",
   "metadata": {},
   "source": [
    "\n",
    "## 3. Perform polynomial regression\n",
    "\n",
    "By plotting the moving average, we now have a sense of how the regression line should run. This is clearly not linear but a polynomial. We will now try in steps to fit the line with polynomial regression. We do this with the following steps\n",
    "\n",
    "#### 3a. Prepare the data\n",
    "- Normalize the data.\n",
    "We do this with a `StandardScaler ()` that normalizes to a Z score. We use the code from the `sklearn.preprocessing`. We always normalize the X values.\n",
    "- Split the data into train and test set.\n",
    "We use the method `train_test_split` from the module` sklearn.model_selection`. Take a `test_size = 0.3` and` random_state = 1`\n",
    "\n",
    "#### 3b. Model\n",
    "- Now try the polyfit model with different polynomial degrees (eg grade 1,2,3,4,10,40).\n",
    "- Plot the model against the data\n",
    "\n",
    "#### 3c. Evaluate\n",
    "- Calculate the Mean Square Error (Or the Root Mean Square Error) of the train and test data\n",
    "- What do you think is the best model? Why?"
   ]
  },
  {
   "cell_type": "code",
   "execution_count": 165,
   "metadata": {},
   "outputs": [],
   "source": [
    "#Functions you need\n",
    "def model(X, y, degree):\n",
    "    \"\"\" function that models a polynomial\"\"\"\n",
    "    poly_features = PolynomialFeatures(degree=degree, include_bias=False)\n",
    "    X_poly = poly_features.fit_transform(X)\n",
    "    lin_reg = LinearRegression()\n",
    "    lin_reg.fit(X_poly, y)\n",
    "    print(f'\\nmodel outcome for {degree} degrees:')\n",
    "    print(f'intercept: {lin_reg.intercept_} coefficient {lin_reg.coef_}')\n",
    "    return [lin_reg, poly_features]\n",
    "\n",
    "\n",
    "def predict(X, model, poly_features, n=1000):\n",
    "    \"\"\" function that predicts y based on a model \"\"\"\n",
    "    X_pred=np.linspace(X.min(), X.max(), n).reshape(n, 1)\n",
    "    X_pred_poly = poly_features.transform(X_pred)\n",
    "    y_pred = model.predict(X_pred_poly)\n",
    "    return [X_pred, y_pred]\n",
    "\n",
    "\n",
    "# Plot the points and the regression curve\n",
    "def plot_polynomial(X,y,X_pred,y_pred):\n",
    "    \"\"\"function that plots data and prediction\"\"\"\n",
    "    plt.plot(X, y, \"b.\", label = 'Data')\n",
    "    plt.plot(X_pred, y_pred, \"r-\", linewidth=2, label=\"model trainset\")\n",
    "    plt.ylabel('Average Temperature')\n",
    "    plt.xlabel('Year')\n",
    "    plt.title('Average temperature in the Netherlands -  TRAIN')\n",
    "    plt.legend()\n",
    "    plt.show()"
   ]
  },
  {
   "cell_type": "code",
   "execution_count": 166,
   "metadata": {},
   "outputs": [],
   "source": [
    "#3a. Normalize the data (no changes needed)\n",
    "scaler = StandardScaler()\n",
    "scaler = scaler.fit(X)\n",
    "X = scaler.transform(X)"
   ]
  },
  {
   "cell_type": "code",
   "execution_count": 167,
   "metadata": {
    "scrolled": true
   },
   "outputs": [
    {
     "name": "stdout",
     "output_type": "stream",
     "text": [
      "train en test zijn opgesplitst in:\n",
      "(200, 1) (200, 1)\n",
      "(51, 1) (51, 1)\n"
     ]
    }
   ],
   "source": [
    "#3a. Split de data (you can change test size if you want)\n",
    "X_train, X_test, y_train, y_test = train_test_split(X, y, test_size=0.2, random_state=1)\n",
    "print(\"train and test are splitted in:\")\n",
    "print(X_train.shape, y_train.shape)\n",
    "print(X_test.shape, y_test.shape)"
   ]
  },
  {
   "cell_type": "code",
   "execution_count": 168,
   "metadata": {},
   "outputs": [
    {
     "name": "stdout",
     "output_type": "stream",
     "text": [
      "\n",
      "model outcome for 3 degrees:\n",
      "intercept: [9.26708662] coefficient [[0.12447822 0.23135511 0.08295869]]\n"
     ]
    },
    {
     "data": {
      "image/png": "[encoded data removed]",
      "text/plain": [
       "<Figure size 432x288 with 1 Axes>"
      ]
     },
     "metadata": {
      "needs_background": "light"
     },
     "output_type": "display_data"
    },
    {
     "name": "stdout",
     "output_type": "stream",
     "text": [
      "Mean squared error: 0.35\n"
     ]
    }
   ],
   "source": [
    "#3b. Model\n",
    "degree = 3 # change this\n",
    "# call the model function\n",
    "# call predict() \n",
    "#3b. call plot_polynomial() to plot\n",
    "\n",
    "#3c. calculate mean squared error from test set\n",
    "X_pred, y_pred = predict(X_test, lin_reg, poly_features, len(y_test))\n",
    "print('Mean squared error: {:.2f}'.format(mean_squared_error(y_test, y_pred)))"
   ]
  },
  {
   "cell_type": "markdown",
   "metadata": {},
   "source": [
    "## Next\n",
    "\n",
    "This is the end of this notebook. We looked at only 1 feature and different order (degrees) of the model. Some models perform better than others. We can see that by the (root) mean square error. Because we only had 1 feature, we could visualize it easily. This becomes more difficult with multiple features. Next we will look at a technique called ** learning curve **. That is a method where you can evaluate models with multiple features."
   ]
  }
 ],
 "metadata": {
  "kernelspec": {
   "display_name": "Python 3",
   "language": "python",
   "name": "python3"
  },
  "language_info": {
   "codemirror_mode": {
    "name": "ipython",
    "version": 3
   },
   "file_extension": ".py",
   "mimetype": "text/x-python",
   "name": "python",
   "nbconvert_exporter": "python",
   "pygments_lexer": "ipython3",
   "version": "3.7.3"
  }
 },
 "nbformat": 4,
 "nbformat_minor": 2
}
