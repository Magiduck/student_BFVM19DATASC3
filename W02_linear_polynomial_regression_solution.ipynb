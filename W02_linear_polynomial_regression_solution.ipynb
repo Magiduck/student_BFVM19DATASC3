{
 "cells": [
  {
   "cell_type": "code",
   "execution_count": 1,
   "metadata": {},
   "outputs": [],
   "source": [
    "# here we load all packages that are needed in this notebook.\n",
    "import pandas as pd\n",
    "import numpy as np\n",
    "from matplotlib import pyplot as plt\n",
    "from sklearn import linear_model\n",
    "\n",
    "from sklearn.linear_model import LinearRegression\n",
    "from sklearn.model_selection import train_test_split\n",
    "from sklearn.metrics import mean_squared_error\n",
    "from sklearn.metrics import r2_score\n",
    "from sklearn.preprocessing import PolynomialFeatures\n",
    "from sklearn.preprocessing import StandardScaler\n",
    "\n",
    "#------------------------------------------------------------------------------\n",
    "#                   Lineaire Regressie  Functies\n",
    "#------------------------------------------------------------------------------\n",
    "def model(X, y, degree):\n",
    "    \"\"\" function that models a polynomial\"\"\"\n",
    "    poly_features = PolynomialFeatures(degree=degree, include_bias=False)\n",
    "    X_poly = poly_features.fit_transform(X)\n",
    "    lin_reg = LinearRegression()\n",
    "    lin_reg.fit(X_poly, y)\n",
    "    print('\\nmodel outcome:')\n",
    "    print(f'intercept: {lin_reg.intercept_} coefficient {lin_reg.coef_}')\n",
    "    return [lin_reg, poly_features]\n",
    "\n",
    "\n",
    "def predict(X, model, poly_features, n=1000):\n",
    "    \"\"\" function that predicts y based on a model \"\"\"\n",
    "    X_pred=np.linspace(X.min(), X.max(), n).reshape(n, 1)\n",
    "    X_pred_poly = poly_features.transform(X_pred)\n",
    "    y_pred = model.predict(X_pred_poly)\n",
    "    return [X_pred, y_pred]\n",
    "\n",
    "\n",
    "#4. Plot the points and the regression curve\n",
    "def plot_polynomial(X,y,X_pred,y_pred):\n",
    "    \"\"\"function that plots data and prediction\"\"\"\n",
    "    plt.plot(X, y, \"b.\", label = 'Data')\n",
    "    plt.plot(X_pred, y_pred, \"r-\", linewidth=2, label=\"model trainset\")\n",
    "    plt.ylabel('Average Temperature')\n",
    "    plt.xlabel('Year')\n",
    "    plt.title('Average temperature in the Netherlands -  TRAIN')\n",
    "    plt.legend()\n",
    "    plt.show()\n",
    "\n"
   ]
  },
  {
   "cell_type": "code",
   "execution_count": 2,
   "metadata": {},
   "outputs": [
    {
     "data": {
      "text/html": [
       "<div>\n",
       "<style scoped>\n",
       "    .dataframe tbody tr th:only-of-type {\n",
       "        vertical-align: middle;\n",
       "    }\n",
       "\n",
       "    .dataframe tbody tr th {\n",
       "        vertical-align: top;\n",
       "    }\n",
       "\n",
       "    .dataframe thead th {\n",
       "        text-align: right;\n",
       "    }\n",
       "</style>\n",
       "<table border=\"1\" class=\"dataframe\">\n",
       "  <thead>\n",
       "    <tr style=\"text-align: right;\">\n",
       "      <th></th>\n",
       "      <th>AverageTemperature</th>\n",
       "      <th>AverageTemperatureUncertainty</th>\n",
       "      <th>Country</th>\n",
       "    </tr>\n",
       "    <tr>\n",
       "      <th>dt</th>\n",
       "      <th></th>\n",
       "      <th></th>\n",
       "      <th></th>\n",
       "    </tr>\n",
       "  </thead>\n",
       "  <tbody>\n",
       "    <tr>\n",
       "      <th>1743-11-01</th>\n",
       "      <td>8.009</td>\n",
       "      <td>1.779</td>\n",
       "      <td>Netherlands</td>\n",
       "    </tr>\n",
       "    <tr>\n",
       "      <th>1743-12-01</th>\n",
       "      <td>NaN</td>\n",
       "      <td>NaN</td>\n",
       "      <td>Netherlands</td>\n",
       "    </tr>\n",
       "    <tr>\n",
       "      <th>1744-01-01</th>\n",
       "      <td>NaN</td>\n",
       "      <td>NaN</td>\n",
       "      <td>Netherlands</td>\n",
       "    </tr>\n",
       "    <tr>\n",
       "      <th>1744-02-01</th>\n",
       "      <td>NaN</td>\n",
       "      <td>NaN</td>\n",
       "      <td>Netherlands</td>\n",
       "    </tr>\n",
       "    <tr>\n",
       "      <th>1744-03-01</th>\n",
       "      <td>NaN</td>\n",
       "      <td>NaN</td>\n",
       "      <td>Netherlands</td>\n",
       "    </tr>\n",
       "  </tbody>\n",
       "</table>\n",
       "</div>"
      ],
      "text/plain": [
       "            AverageTemperature  AverageTemperatureUncertainty      Country\n",
       "dt                                                                        \n",
       "1743-11-01               8.009                          1.779  Netherlands\n",
       "1743-12-01                 NaN                            NaN  Netherlands\n",
       "1744-01-01                 NaN                            NaN  Netherlands\n",
       "1744-02-01                 NaN                            NaN  Netherlands\n",
       "1744-03-01                 NaN                            NaN  Netherlands"
      ]
     },
     "execution_count": 2,
     "metadata": {},
     "output_type": "execute_result"
    }
   ],
   "source": [
    "#------------------------------------------------------------------------------\n",
    "#                          Clean\n",
    "#------------------------------------------------------------------------------\n",
    "# Read the csv from its location\n",
    "df = pd.read_csv(\"GlobalLandTemperaturesByCountry.csv\", index_col=0, parse_dates=True)\n",
    "\n",
    "# Select the country (Netherlands), and drop unknown values\n",
    "df = df.loc[df[\"Country\"]==\"Netherlands\"]\n",
    "df.head()"
   ]
  },
  {
   "cell_type": "code",
   "execution_count": 3,
   "metadata": {},
   "outputs": [
    {
     "data": {
      "text/html": [
       "<div>\n",
       "<style scoped>\n",
       "    .dataframe tbody tr th:only-of-type {\n",
       "        vertical-align: middle;\n",
       "    }\n",
       "\n",
       "    .dataframe tbody tr th {\n",
       "        vertical-align: top;\n",
       "    }\n",
       "\n",
       "    .dataframe thead th {\n",
       "        text-align: right;\n",
       "    }\n",
       "</style>\n",
       "<table border=\"1\" class=\"dataframe\">\n",
       "  <thead>\n",
       "    <tr style=\"text-align: right;\">\n",
       "      <th></th>\n",
       "      <th>AverageTemperature</th>\n",
       "      <th>Year</th>\n",
       "    </tr>\n",
       "    <tr>\n",
       "      <th>dt</th>\n",
       "      <th></th>\n",
       "      <th></th>\n",
       "    </tr>\n",
       "  </thead>\n",
       "  <tbody>\n",
       "    <tr>\n",
       "      <th>1743-11-01</th>\n",
       "      <td>8.009</td>\n",
       "      <td>1743</td>\n",
       "    </tr>\n",
       "    <tr>\n",
       "      <th>1744-04-01</th>\n",
       "      <td>8.443</td>\n",
       "      <td>1744</td>\n",
       "    </tr>\n",
       "    <tr>\n",
       "      <th>1744-05-01</th>\n",
       "      <td>11.643</td>\n",
       "      <td>1744</td>\n",
       "    </tr>\n",
       "    <tr>\n",
       "      <th>1744-06-01</th>\n",
       "      <td>14.773</td>\n",
       "      <td>1744</td>\n",
       "    </tr>\n",
       "    <tr>\n",
       "      <th>1744-07-01</th>\n",
       "      <td>16.277</td>\n",
       "      <td>1744</td>\n",
       "    </tr>\n",
       "  </tbody>\n",
       "</table>\n",
       "</div>"
      ],
      "text/plain": [
       "            AverageTemperature  Year\n",
       "dt                                  \n",
       "1743-11-01               8.009  1743\n",
       "1744-04-01               8.443  1744\n",
       "1744-05-01              11.643  1744\n",
       "1744-06-01              14.773  1744\n",
       "1744-07-01              16.277  1744"
      ]
     },
     "execution_count": 3,
     "metadata": {},
     "output_type": "execute_result"
    }
   ],
   "source": [
    "df = df.dropna()\n",
    "\n",
    "# Drop columns we won't use\n",
    "df = df.drop([\"AverageTemperatureUncertainty\",\"Country\"], axis=1)\n",
    "\n",
    "df[\"Year\"] = df.index.year\n",
    "\n",
    "\n",
    "df.head()"
   ]
  },
  {
   "cell_type": "code",
   "execution_count": 4,
   "metadata": {},
   "outputs": [
    {
     "name": "stderr",
     "output_type": "stream",
     "text": [
      "<ipython-input-4-5ab018de973a>:6: UserWarning: Boolean Series key will be reindexed to match DataFrame index.\n",
      "  data = data[df[\"Year\"].value_counts()==12]\n"
     ]
    },
    {
     "data": {
      "text/html": [
       "<div>\n",
       "<style scoped>\n",
       "    .dataframe tbody tr th:only-of-type {\n",
       "        vertical-align: middle;\n",
       "    }\n",
       "\n",
       "    .dataframe tbody tr th {\n",
       "        vertical-align: top;\n",
       "    }\n",
       "\n",
       "    .dataframe thead th {\n",
       "        text-align: right;\n",
       "    }\n",
       "</style>\n",
       "<table border=\"1\" class=\"dataframe\">\n",
       "  <thead>\n",
       "    <tr style=\"text-align: right;\">\n",
       "      <th></th>\n",
       "      <th>AverageTemperature</th>\n",
       "    </tr>\n",
       "    <tr>\n",
       "      <th>Year</th>\n",
       "      <th></th>\n",
       "    </tr>\n",
       "  </thead>\n",
       "  <tbody>\n",
       "    <tr>\n",
       "      <th>1753</th>\n",
       "      <td>9.440083</td>\n",
       "    </tr>\n",
       "    <tr>\n",
       "      <th>1754</th>\n",
       "      <td>9.111833</td>\n",
       "    </tr>\n",
       "    <tr>\n",
       "      <th>1755</th>\n",
       "      <td>8.924750</td>\n",
       "    </tr>\n",
       "    <tr>\n",
       "      <th>1756</th>\n",
       "      <td>9.568667</td>\n",
       "    </tr>\n",
       "    <tr>\n",
       "      <th>1757</th>\n",
       "      <td>9.436250</td>\n",
       "    </tr>\n",
       "  </tbody>\n",
       "</table>\n",
       "</div>"
      ],
      "text/plain": [
       "      AverageTemperature\n",
       "Year                    \n",
       "1753            9.440083\n",
       "1754            9.111833\n",
       "1755            8.924750\n",
       "1756            9.568667\n",
       "1757            9.436250"
      ]
     },
     "execution_count": 4,
     "metadata": {},
     "output_type": "execute_result"
    }
   ],
   "source": [
    "# Take average temperature per year\n",
    "data = df.groupby([\"Year\"]).mean()\n",
    "\n",
    "# And drop years where less than 12 values are known (why do we do this?)\n",
    "# This selection can be done in a neater way, this generates a warning (but the warning can be ignored in this case)\n",
    "data = data[df[\"Year\"].value_counts()==12]\n",
    "\n",
    "data.head()"
   ]
  },
  {
   "cell_type": "code",
   "execution_count": 5,
   "metadata": {},
   "outputs": [
    {
     "data": {
      "image/png": "[encoded data removed]",
      "text/plain": [
       "<Figure size 432x288 with 1 Axes>"
      ]
     },
     "metadata": {
      "needs_background": "light"
     },
     "output_type": "display_data"
    }
   ],
   "source": [
    "# Plot the data\n",
    "data[\"Year\"] = data.index\n",
    "plt.scatter(data[\"Year\"], data[\"AverageTemperature\"])\n",
    "plt.ylabel('Average Temperature')\n",
    "plt.xlabel('Year')\n",
    "plt.title('Average temperature in the Netherlands')\n",
    "plt.show()\n",
    "\n"
   ]
  },
  {
   "cell_type": "code",
   "execution_count": 6,
   "metadata": {},
   "outputs": [
    {
     "data": {
      "image/png": "[encoded data removed]",
      "text/plain": [
       "<Figure size 432x288 with 1 Axes>"
      ]
     },
     "metadata": {
      "needs_background": "light"
     },
     "output_type": "display_data"
    }
   ],
   "source": [
    "#------------------------------------------------------------------------------\n",
    "#                         Rolling mean\n",
    "#------------------------------------------------------------------------------\n",
    "\n",
    "df = data[\"AverageTemperature\"].rolling(window=10).mean()\n",
    "df = df.dropna()\n",
    "\n",
    "#df.to_csv('temperatuur.csv')\n",
    "\n",
    "y = df.values.reshape(-1,1)\n",
    "X = df.index.values\n",
    "X = X.reshape(-1,1)\n",
    "\n",
    "plt.plot(X,y)\n",
    "plt.ylabel('Average Temperature')\n",
    "plt.xlabel('Year')\n",
    "plt.title('Average temperature in the Netherlands')\n",
    "plt.show()\n",
    "\n"
   ]
  },
  {
   "cell_type": "code",
   "execution_count": 7,
   "metadata": {},
   "outputs": [],
   "source": [
    "\n",
    "#------------------------------------------------------------------------------\n",
    "#                         Regression\n",
    "#------------------------------------------------------------------------------\n",
    "#1. Normalise\n",
    "scaler = StandardScaler()\n",
    "scaler = scaler.fit(X)\n",
    "X = scaler.transform(X)"
   ]
  },
  {
   "cell_type": "code",
   "execution_count": 17,
   "metadata": {},
   "outputs": [
    {
     "name": "stdout",
     "output_type": "stream",
     "text": [
      "train en test zijn opgesplitst in:\n",
      "(200, 1) (200, 1)\n",
      "(51, 1) (51, 1)\n",
      "\n",
      "model outcome:\n",
      "intercept: [9.19761073] coefficient [[ 0.16002696  1.17795799  0.30556493 -1.65840727 -0.3236207   0.87284898\n",
      "   0.0905357  -0.14024564]]\n"
     ]
    }
   ],
   "source": [
    "\n",
    "\n",
    "#2. Split \n",
    "X_train, X_test, y_train, y_test = train_test_split(X, y, test_size=0.2, random_state=1)\n",
    "print(\"train en test zijn opgesplitst in:\")\n",
    "print(X_train.shape, y_train.shape)\n",
    "print(X_test.shape, y_test.shape)\n",
    "\n",
    "#3. Model\n",
    "degree = 8\n",
    "lin_reg, poly_features = model(X_train, y_train, degree)\n",
    "X_pred, y_pred = predict(X_train, lin_reg, poly_features)\n",
    "\n"
   ]
  },
  {
   "cell_type": "code",
   "execution_count": 23,
   "metadata": {},
   "outputs": [
    {
     "name": "stdout",
     "output_type": "stream",
     "text": [
      "\n",
      "model outcome:\n",
      "intercept: [9.26708662] coefficient [[0.12447822 0.23135511 0.08295869]]\n"
     ]
    }
   ],
   "source": [
    "#3. Model\n",
    "degree = 3\n",
    "lin_reg, poly_features = model(X_train, y_train, degree)\n",
    "X_pred, y_pred = predict(X_train, lin_reg, poly_features)\n"
   ]
  },
  {
   "cell_type": "code",
   "execution_count": 24,
   "metadata": {},
   "outputs": [
    {
     "data": {
      "image/png": "[encoded data removed]",
      "text/plain": [
       "<Figure size 432x288 with 1 Axes>"
      ]
     },
     "metadata": {
      "needs_background": "light"
     },
     "output_type": "display_data"
    },
    {
     "name": "stdout",
     "output_type": "stream",
     "text": [
      "Mean squared error: 0.35\n"
     ]
    }
   ],
   "source": [
    "\n",
    "#------------------------------------------------------------------------------\n",
    "#                         Evaluation\n",
    "#------------------------------------------------------------------------------\n",
    "\n",
    "#4. Plot the points and the regression curve\n",
    "plot_polynomial(X,y,X_pred,y_pred)\n",
    "\n",
    "#5 calculate mean squared error from test set\n",
    "X_pred, y_pred = predict(X_test, lin_reg, poly_features, len(y_test))\n",
    "print('Mean squared error: {:.2f}'.format(mean_squared_error(y_test, y_pred)))"
   ]
  },
  {
   "cell_type": "code",
   "execution_count": null,
   "metadata": {},
   "outputs": [],
   "source": []
  }
 ],
 "metadata": {
  "kernelspec": {
   "display_name": "Python 3",
   "language": "python",
   "name": "python3"
  },
  "language_info": {
   "codemirror_mode": {
    "name": "ipython",
    "version": 3
   },
   "file_extension": ".py",
   "mimetype": "text/x-python",
   "name": "python",
   "nbconvert_exporter": "python",
   "pygments_lexer": "ipython3",
   "version": "3.8.1"
  }
 },
 "nbformat": 4,
 "nbformat_minor": 2
}
